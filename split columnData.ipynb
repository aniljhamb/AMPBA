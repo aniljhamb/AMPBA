{
 "cells": [
  {
   "cell_type": "code",
   "execution_count": 37,
   "id": "2d9b2854",
   "metadata": {},
   "outputs": [],
   "source": [
    "import xlrd\n",
    "import pandas as pd\n",
    "import re"
   ]
  },
  {
   "cell_type": "code",
   "execution_count": 38,
   "id": "4da898f7",
   "metadata": {},
   "outputs": [],
   "source": [
    "#read excel data\n",
    "filmCatalogue= pd.read_excel(\"output.xlsx\")"
   ]
  },
  {
   "cell_type": "code",
   "execution_count": 65,
   "id": "18ba2b40",
   "metadata": {},
   "outputs": [],
   "source": [
    "str1='Cinematography - '\n",
    "#str1='Cinematography - Rustom MasterEditing - Navnit Desai'\n",
    "str2=','\n",
    "start_index=''\n",
    "end_index=''\n",
    "res=[]\n",
    "for i in range(len(filmCatalogue['CAST_CREW'])):\n",
    "    #findStr='Cinematography - H. S. Kwatra, Sound - S. D. Patil, Editing - Navnit Desai.'\n",
    "    findStr=filmCatalogue['CAST_CREW'][i]\n",
    "    if(str(filmCatalogue['CAST_CREW'][i]).find(str1)==0):\n",
    "        start_index=int(str(findStr.index('Cinematography - ')))\n",
    "    if(str(filmCatalogue['CAST_CREW'][i]).find(str2)>0):\n",
    "        end_index=findStr.index(str2)\n",
    "#print(str(filmCatalogue['CAST_CREW'][0]).index(str2))\n",
    "    if((str(filmCatalogue['CAST_CREW'][i]).find(str1)==0) and  (str(filmCatalogue['CAST_CREW'][i]).find(str2)>0)):\n",
    "        #print(\"1\")\n",
    "        res.append(findStr[start_index+len(str1)-1 : end_index])\n",
    "    #if((str(filmCatalogue['CAST_CREW'][i]).find(str1)==0) and  (str(filmCatalogue['CAST_CREW'][i]).find(str2)<0)):\n",
    "     #   print(str(filmCatalogue['CAST_CREW'][i]).find(str1),\"2\",str(filmCatalogue['CAST_CREW'][i]).find(str2))\n",
    "     #   res.append(findStr[start_index+len(str1)-1 : ])\n",
    "    if((str(filmCatalogue['CAST_CREW'][i]).find(str1)<0 or (str(filmCatalogue['CAST_CREW'][i]).find(str2)<0))):\n",
    "        #print(\"3\")\n",
    "        res.append(\"Not Available\")\n"
   ]
  },
  {
   "cell_type": "code",
   "execution_count": 54,
   "id": "146a3ff2",
   "metadata": {},
   "outputs": [
    {
     "name": "stdout",
     "output_type": "stream",
     "text": [
      "3\n"
     ]
    }
   ],
   "source": [
    "#str1='Cinematography - '\n",
    "str1='Cinematography - Rustom MasterEditing - Navnit Desai'\n",
    "str2=','\n",
    "start_index=''\n",
    "end_index=''\n",
    "res=[]\n",
    "#for i in range(len(filmCatalogue['CAST_CREW'])):\n",
    "    #findStr='Cinematography - H. S. Kwatra, Sound - S. D. Patil, Editing - Navnit Desai.'\n",
    "    #findStr=filmCatalogue['CAST_CREW'][i]\n",
    "if(str(filmCatalogue['CAST_CREW'][i]).find(str1)==0):\n",
    "    start_index=int(str(findStr.index('Cinematography - ')))\n",
    "if(str(filmCatalogue['CAST_CREW'][i]).find(str2)>0):\n",
    "    end_index=findStr.index(str2)\n",
    "#print(str(filmCatalogue['CAST_CREW'][0]).index(str2))\n",
    "    if((str(filmCatalogue['CAST_CREW'][i]).find(str1)==0) and  (str(filmCatalogue['CAST_CREW'][i]).find(str2)>0)):\n",
    "        print(\"1\")\n",
    "        res.append(findStr[start_index+len(str1)-1 : end_index])\n",
    "    if((str(filmCatalogue['CAST_CREW'][i]).find(str1)==0) and  (str(filmCatalogue['CAST_CREW'][i]).find(str2)<0)):\n",
    "        print(\"2\")\n",
    "        res.append(findStr[start_index+len(str1)-1 : ])\n",
    "    if((str(filmCatalogue['CAST_CREW'][i]).find(str1)!=0 or (str(filmCatalogue['CAST_CREW'][i]).find(str2)<0))):\n",
    "        print(\"3\")\n",
    "        res.append(\"Not Available\")\n"
   ]
  },
  {
   "cell_type": "code",
   "execution_count": 69,
   "id": "d4b62bec",
   "metadata": {},
   "outputs": [],
   "source": [
    "import csv\n",
    "file=open('res.csv','w+',newline='')\n",
    "with file:\n",
    "    write=csv.writer(file)\n",
    "    write.writerows(res)"
   ]
  },
  {
   "cell_type": "code",
   "execution_count": 67,
   "id": "bc3c946d",
   "metadata": {},
   "outputs": [
    {
     "ename": "ValueError",
     "evalue": "Length of values (7421) does not match length of index (7504)",
     "output_type": "error",
     "traceback": [
      "\u001b[1;31m---------------------------------------------------------------------------\u001b[0m",
      "\u001b[1;31mValueError\u001b[0m                                Traceback (most recent call last)",
      "\u001b[1;32m<ipython-input-67-77e937fca590>\u001b[0m in \u001b[0;36m<module>\u001b[1;34m\u001b[0m\n\u001b[1;32m----> 1\u001b[1;33m \u001b[0mfilmCatalogue\u001b[0m\u001b[1;33m.\u001b[0m\u001b[0minsert\u001b[0m\u001b[1;33m(\u001b[0m\u001b[1;36m13\u001b[0m\u001b[1;33m,\u001b[0m\u001b[1;34m'Cinematography'\u001b[0m\u001b[1;33m,\u001b[0m\u001b[0mres\u001b[0m\u001b[1;33m)\u001b[0m\u001b[1;33m\u001b[0m\u001b[1;33m\u001b[0m\u001b[0m\n\u001b[0m",
      "\u001b[1;32m~\\anaconda3\\lib\\site-packages\\pandas\\core\\frame.py\u001b[0m in \u001b[0;36minsert\u001b[1;34m(self, loc, column, value, allow_duplicates)\u001b[0m\n\u001b[0;32m   3760\u001b[0m             )\n\u001b[0;32m   3761\u001b[0m         \u001b[0mself\u001b[0m\u001b[1;33m.\u001b[0m\u001b[0m_ensure_valid_index\u001b[0m\u001b[1;33m(\u001b[0m\u001b[0mvalue\u001b[0m\u001b[1;33m)\u001b[0m\u001b[1;33m\u001b[0m\u001b[1;33m\u001b[0m\u001b[0m\n\u001b[1;32m-> 3762\u001b[1;33m         \u001b[0mvalue\u001b[0m \u001b[1;33m=\u001b[0m \u001b[0mself\u001b[0m\u001b[1;33m.\u001b[0m\u001b[0m_sanitize_column\u001b[0m\u001b[1;33m(\u001b[0m\u001b[0mcolumn\u001b[0m\u001b[1;33m,\u001b[0m \u001b[0mvalue\u001b[0m\u001b[1;33m,\u001b[0m \u001b[0mbroadcast\u001b[0m\u001b[1;33m=\u001b[0m\u001b[1;32mFalse\u001b[0m\u001b[1;33m)\u001b[0m\u001b[1;33m\u001b[0m\u001b[1;33m\u001b[0m\u001b[0m\n\u001b[0m\u001b[0;32m   3763\u001b[0m         \u001b[0mself\u001b[0m\u001b[1;33m.\u001b[0m\u001b[0m_mgr\u001b[0m\u001b[1;33m.\u001b[0m\u001b[0minsert\u001b[0m\u001b[1;33m(\u001b[0m\u001b[0mloc\u001b[0m\u001b[1;33m,\u001b[0m \u001b[0mcolumn\u001b[0m\u001b[1;33m,\u001b[0m \u001b[0mvalue\u001b[0m\u001b[1;33m,\u001b[0m \u001b[0mallow_duplicates\u001b[0m\u001b[1;33m=\u001b[0m\u001b[0mallow_duplicates\u001b[0m\u001b[1;33m)\u001b[0m\u001b[1;33m\u001b[0m\u001b[1;33m\u001b[0m\u001b[0m\n\u001b[0;32m   3764\u001b[0m \u001b[1;33m\u001b[0m\u001b[0m\n",
      "\u001b[1;32m~\\anaconda3\\lib\\site-packages\\pandas\\core\\frame.py\u001b[0m in \u001b[0;36m_sanitize_column\u001b[1;34m(self, key, value, broadcast)\u001b[0m\n\u001b[0;32m   3897\u001b[0m \u001b[1;33m\u001b[0m\u001b[0m\n\u001b[0;32m   3898\u001b[0m             \u001b[1;31m# turn me into an ndarray\u001b[0m\u001b[1;33m\u001b[0m\u001b[1;33m\u001b[0m\u001b[1;33m\u001b[0m\u001b[0m\n\u001b[1;32m-> 3899\u001b[1;33m             \u001b[0mvalue\u001b[0m \u001b[1;33m=\u001b[0m \u001b[0msanitize_index\u001b[0m\u001b[1;33m(\u001b[0m\u001b[0mvalue\u001b[0m\u001b[1;33m,\u001b[0m \u001b[0mself\u001b[0m\u001b[1;33m.\u001b[0m\u001b[0mindex\u001b[0m\u001b[1;33m)\u001b[0m\u001b[1;33m\u001b[0m\u001b[1;33m\u001b[0m\u001b[0m\n\u001b[0m\u001b[0;32m   3900\u001b[0m             \u001b[1;32mif\u001b[0m \u001b[1;32mnot\u001b[0m \u001b[0misinstance\u001b[0m\u001b[1;33m(\u001b[0m\u001b[0mvalue\u001b[0m\u001b[1;33m,\u001b[0m \u001b[1;33m(\u001b[0m\u001b[0mnp\u001b[0m\u001b[1;33m.\u001b[0m\u001b[0mndarray\u001b[0m\u001b[1;33m,\u001b[0m \u001b[0mIndex\u001b[0m\u001b[1;33m)\u001b[0m\u001b[1;33m)\u001b[0m\u001b[1;33m:\u001b[0m\u001b[1;33m\u001b[0m\u001b[1;33m\u001b[0m\u001b[0m\n\u001b[0;32m   3901\u001b[0m                 \u001b[1;32mif\u001b[0m \u001b[0misinstance\u001b[0m\u001b[1;33m(\u001b[0m\u001b[0mvalue\u001b[0m\u001b[1;33m,\u001b[0m \u001b[0mlist\u001b[0m\u001b[1;33m)\u001b[0m \u001b[1;32mand\u001b[0m \u001b[0mlen\u001b[0m\u001b[1;33m(\u001b[0m\u001b[0mvalue\u001b[0m\u001b[1;33m)\u001b[0m \u001b[1;33m>\u001b[0m \u001b[1;36m0\u001b[0m\u001b[1;33m:\u001b[0m\u001b[1;33m\u001b[0m\u001b[1;33m\u001b[0m\u001b[0m\n",
      "\u001b[1;32m~\\anaconda3\\lib\\site-packages\\pandas\\core\\internals\\construction.py\u001b[0m in \u001b[0;36msanitize_index\u001b[1;34m(data, index)\u001b[0m\n\u001b[0;32m    749\u001b[0m     \"\"\"\n\u001b[0;32m    750\u001b[0m     \u001b[1;32mif\u001b[0m \u001b[0mlen\u001b[0m\u001b[1;33m(\u001b[0m\u001b[0mdata\u001b[0m\u001b[1;33m)\u001b[0m \u001b[1;33m!=\u001b[0m \u001b[0mlen\u001b[0m\u001b[1;33m(\u001b[0m\u001b[0mindex\u001b[0m\u001b[1;33m)\u001b[0m\u001b[1;33m:\u001b[0m\u001b[1;33m\u001b[0m\u001b[1;33m\u001b[0m\u001b[0m\n\u001b[1;32m--> 751\u001b[1;33m         raise ValueError(\n\u001b[0m\u001b[0;32m    752\u001b[0m             \u001b[1;34m\"Length of values \"\u001b[0m\u001b[1;33m\u001b[0m\u001b[1;33m\u001b[0m\u001b[0m\n\u001b[0;32m    753\u001b[0m             \u001b[1;34mf\"({len(data)}) \"\u001b[0m\u001b[1;33m\u001b[0m\u001b[1;33m\u001b[0m\u001b[0m\n",
      "\u001b[1;31mValueError\u001b[0m: Length of values (7421) does not match length of index (7504)"
     ]
    }
   ],
   "source": [
    "filmCatalogue.insert(13,'Cinematography',res)"
   ]
  },
  {
   "cell_type": "code",
   "execution_count": 26,
   "id": "9a37e66f",
   "metadata": {},
   "outputs": [
    {
     "ename": "KeyError",
     "evalue": "'Editing'",
     "output_type": "error",
     "traceback": [
      "\u001b[1;31m---------------------------------------------------------------------------\u001b[0m",
      "\u001b[1;31mKeyError\u001b[0m                                  Traceback (most recent call last)",
      "\u001b[1;32m~\\anaconda3\\lib\\site-packages\\pandas\\core\\indexes\\base.py\u001b[0m in \u001b[0;36mget_loc\u001b[1;34m(self, key, method, tolerance)\u001b[0m\n\u001b[0;32m   3079\u001b[0m             \u001b[1;32mtry\u001b[0m\u001b[1;33m:\u001b[0m\u001b[1;33m\u001b[0m\u001b[1;33m\u001b[0m\u001b[0m\n\u001b[1;32m-> 3080\u001b[1;33m                 \u001b[1;32mreturn\u001b[0m \u001b[0mself\u001b[0m\u001b[1;33m.\u001b[0m\u001b[0m_engine\u001b[0m\u001b[1;33m.\u001b[0m\u001b[0mget_loc\u001b[0m\u001b[1;33m(\u001b[0m\u001b[0mcasted_key\u001b[0m\u001b[1;33m)\u001b[0m\u001b[1;33m\u001b[0m\u001b[1;33m\u001b[0m\u001b[0m\n\u001b[0m\u001b[0;32m   3081\u001b[0m             \u001b[1;32mexcept\u001b[0m \u001b[0mKeyError\u001b[0m \u001b[1;32mas\u001b[0m \u001b[0merr\u001b[0m\u001b[1;33m:\u001b[0m\u001b[1;33m\u001b[0m\u001b[1;33m\u001b[0m\u001b[0m\n",
      "\u001b[1;32mpandas\\_libs\\index.pyx\u001b[0m in \u001b[0;36mpandas._libs.index.IndexEngine.get_loc\u001b[1;34m()\u001b[0m\n",
      "\u001b[1;32mpandas\\_libs\\index.pyx\u001b[0m in \u001b[0;36mpandas._libs.index.IndexEngine.get_loc\u001b[1;34m()\u001b[0m\n",
      "\u001b[1;32mpandas\\_libs\\hashtable_class_helper.pxi\u001b[0m in \u001b[0;36mpandas._libs.hashtable.PyObjectHashTable.get_item\u001b[1;34m()\u001b[0m\n",
      "\u001b[1;32mpandas\\_libs\\hashtable_class_helper.pxi\u001b[0m in \u001b[0;36mpandas._libs.hashtable.PyObjectHashTable.get_item\u001b[1;34m()\u001b[0m\n",
      "\u001b[1;31mKeyError\u001b[0m: 'Editing'",
      "\nThe above exception was the direct cause of the following exception:\n",
      "\u001b[1;31mKeyError\u001b[0m                                  Traceback (most recent call last)",
      "\u001b[1;32m<ipython-input-26-f94d0549c21b>\u001b[0m in \u001b[0;36m<module>\u001b[1;34m\u001b[0m\n\u001b[0;32m     17\u001b[0m         \u001b[0mfilmCatalogue\u001b[0m\u001b[1;33m[\u001b[0m\u001b[1;34m'Editing'\u001b[0m\u001b[1;33m]\u001b[0m\u001b[1;33m[\u001b[0m\u001b[0mi\u001b[0m\u001b[1;33m]\u001b[0m \u001b[1;33m=\u001b[0m \u001b[0mfindStr\u001b[0m\u001b[1;33m[\u001b[0m\u001b[0mstart_index\u001b[0m\u001b[1;33m+\u001b[0m\u001b[0mlen\u001b[0m\u001b[1;33m(\u001b[0m\u001b[0mstr1\u001b[0m\u001b[1;33m)\u001b[0m\u001b[1;33m-\u001b[0m\u001b[1;36m1\u001b[0m \u001b[1;33m:\u001b[0m \u001b[1;33m]\u001b[0m\u001b[1;33m\u001b[0m\u001b[1;33m\u001b[0m\u001b[0m\n\u001b[0;32m     18\u001b[0m     \u001b[1;32mif\u001b[0m\u001b[1;33m(\u001b[0m\u001b[1;33m(\u001b[0m\u001b[0mstr\u001b[0m\u001b[1;33m(\u001b[0m\u001b[0mfilmCatalogue\u001b[0m\u001b[1;33m[\u001b[0m\u001b[1;34m'CAST_CREW'\u001b[0m\u001b[1;33m]\u001b[0m\u001b[1;33m[\u001b[0m\u001b[0mi\u001b[0m\u001b[1;33m]\u001b[0m\u001b[1;33m)\u001b[0m\u001b[1;33m.\u001b[0m\u001b[0mfind\u001b[0m\u001b[1;33m(\u001b[0m\u001b[0mstr1\u001b[0m\u001b[1;33m)\u001b[0m\u001b[1;33m!=\u001b[0m\u001b[1;36m0\u001b[0m \u001b[1;32mor\u001b[0m \u001b[1;33m(\u001b[0m\u001b[0mstr\u001b[0m\u001b[1;33m(\u001b[0m\u001b[0mfilmCatalogue\u001b[0m\u001b[1;33m[\u001b[0m\u001b[1;34m'CAST_CREW'\u001b[0m\u001b[1;33m]\u001b[0m\u001b[1;33m[\u001b[0m\u001b[0mi\u001b[0m\u001b[1;33m]\u001b[0m\u001b[1;33m)\u001b[0m\u001b[1;33m.\u001b[0m\u001b[0mfind\u001b[0m\u001b[1;33m(\u001b[0m\u001b[0mstr2\u001b[0m\u001b[1;33m)\u001b[0m\u001b[1;33m<\u001b[0m\u001b[1;36m0\u001b[0m\u001b[1;33m)\u001b[0m\u001b[1;33m)\u001b[0m\u001b[1;33m)\u001b[0m\u001b[1;33m:\u001b[0m\u001b[1;33m\u001b[0m\u001b[1;33m\u001b[0m\u001b[0m\n\u001b[1;32m---> 19\u001b[1;33m         \u001b[0mfilmCatalogue\u001b[0m\u001b[1;33m[\u001b[0m\u001b[1;34m'Editing'\u001b[0m\u001b[1;33m]\u001b[0m\u001b[1;33m[\u001b[0m\u001b[0mi\u001b[0m\u001b[1;33m]\u001b[0m\u001b[1;33m=\u001b[0m\u001b[1;34m\"Not Available\"\u001b[0m\u001b[1;33m\u001b[0m\u001b[1;33m\u001b[0m\u001b[0m\n\u001b[0m",
      "\u001b[1;32m~\\anaconda3\\lib\\site-packages\\pandas\\core\\frame.py\u001b[0m in \u001b[0;36m__getitem__\u001b[1;34m(self, key)\u001b[0m\n\u001b[0;32m   3022\u001b[0m             \u001b[1;32mif\u001b[0m \u001b[0mself\u001b[0m\u001b[1;33m.\u001b[0m\u001b[0mcolumns\u001b[0m\u001b[1;33m.\u001b[0m\u001b[0mnlevels\u001b[0m \u001b[1;33m>\u001b[0m \u001b[1;36m1\u001b[0m\u001b[1;33m:\u001b[0m\u001b[1;33m\u001b[0m\u001b[1;33m\u001b[0m\u001b[0m\n\u001b[0;32m   3023\u001b[0m                 \u001b[1;32mreturn\u001b[0m \u001b[0mself\u001b[0m\u001b[1;33m.\u001b[0m\u001b[0m_getitem_multilevel\u001b[0m\u001b[1;33m(\u001b[0m\u001b[0mkey\u001b[0m\u001b[1;33m)\u001b[0m\u001b[1;33m\u001b[0m\u001b[1;33m\u001b[0m\u001b[0m\n\u001b[1;32m-> 3024\u001b[1;33m             \u001b[0mindexer\u001b[0m \u001b[1;33m=\u001b[0m \u001b[0mself\u001b[0m\u001b[1;33m.\u001b[0m\u001b[0mcolumns\u001b[0m\u001b[1;33m.\u001b[0m\u001b[0mget_loc\u001b[0m\u001b[1;33m(\u001b[0m\u001b[0mkey\u001b[0m\u001b[1;33m)\u001b[0m\u001b[1;33m\u001b[0m\u001b[1;33m\u001b[0m\u001b[0m\n\u001b[0m\u001b[0;32m   3025\u001b[0m             \u001b[1;32mif\u001b[0m \u001b[0mis_integer\u001b[0m\u001b[1;33m(\u001b[0m\u001b[0mindexer\u001b[0m\u001b[1;33m)\u001b[0m\u001b[1;33m:\u001b[0m\u001b[1;33m\u001b[0m\u001b[1;33m\u001b[0m\u001b[0m\n\u001b[0;32m   3026\u001b[0m                 \u001b[0mindexer\u001b[0m \u001b[1;33m=\u001b[0m \u001b[1;33m[\u001b[0m\u001b[0mindexer\u001b[0m\u001b[1;33m]\u001b[0m\u001b[1;33m\u001b[0m\u001b[1;33m\u001b[0m\u001b[0m\n",
      "\u001b[1;32m~\\anaconda3\\lib\\site-packages\\pandas\\core\\indexes\\base.py\u001b[0m in \u001b[0;36mget_loc\u001b[1;34m(self, key, method, tolerance)\u001b[0m\n\u001b[0;32m   3080\u001b[0m                 \u001b[1;32mreturn\u001b[0m \u001b[0mself\u001b[0m\u001b[1;33m.\u001b[0m\u001b[0m_engine\u001b[0m\u001b[1;33m.\u001b[0m\u001b[0mget_loc\u001b[0m\u001b[1;33m(\u001b[0m\u001b[0mcasted_key\u001b[0m\u001b[1;33m)\u001b[0m\u001b[1;33m\u001b[0m\u001b[1;33m\u001b[0m\u001b[0m\n\u001b[0;32m   3081\u001b[0m             \u001b[1;32mexcept\u001b[0m \u001b[0mKeyError\u001b[0m \u001b[1;32mas\u001b[0m \u001b[0merr\u001b[0m\u001b[1;33m:\u001b[0m\u001b[1;33m\u001b[0m\u001b[1;33m\u001b[0m\u001b[0m\n\u001b[1;32m-> 3082\u001b[1;33m                 \u001b[1;32mraise\u001b[0m \u001b[0mKeyError\u001b[0m\u001b[1;33m(\u001b[0m\u001b[0mkey\u001b[0m\u001b[1;33m)\u001b[0m \u001b[1;32mfrom\u001b[0m \u001b[0merr\u001b[0m\u001b[1;33m\u001b[0m\u001b[1;33m\u001b[0m\u001b[0m\n\u001b[0m\u001b[0;32m   3083\u001b[0m \u001b[1;33m\u001b[0m\u001b[0m\n\u001b[0;32m   3084\u001b[0m         \u001b[1;32mif\u001b[0m \u001b[0mtolerance\u001b[0m \u001b[1;32mis\u001b[0m \u001b[1;32mnot\u001b[0m \u001b[1;32mNone\u001b[0m\u001b[1;33m:\u001b[0m\u001b[1;33m\u001b[0m\u001b[1;33m\u001b[0m\u001b[0m\n",
      "\u001b[1;31mKeyError\u001b[0m: 'Editing'"
     ]
    }
   ],
   "source": [
    "str1='Editing - '\n",
    "str2=','\n",
    "start_index=''\n",
    "end_index=''\n",
    "for i in range(len(filmCatalogue['CAST_CREW'])):\n",
    "    #findStr='Cinematography - H. S. Kwatra, Sound - S. D. Patil, Editing - Navnit Desai.'\n",
    "    res=''\n",
    "    findStr=filmCatalogue['CAST_CREW'][i]\n",
    "    if(str(filmCatalogue['CAST_CREW'][i]).find(str1)==0):\n",
    "        start_index=int(str(findStr.index('Cinematography - ')))\n",
    "    if(str(filmCatalogue['CAST_CREW'][i]).find(str2)>0):\n",
    "        end_index=findStr.index(str2)\n",
    "#print(str(filmCatalogue['CAST_CREW'][0]).index(str2))\n",
    "    if((str(filmCatalogue['CAST_CREW'][i]).find(str1)==0) and  (str(filmCatalogue['CAST_CREW'][i]).find(str2)>0)):\n",
    "        filmCatalogue['Editing'][i] = findStr[start_index+len(str1)-1 : end_index]\n",
    "    if((str(filmCatalogue['CAST_CREW'][i]).find(str1)==0) and  (str(filmCatalogue['CAST_CREW'][i]).find(str2)<0)):\n",
    "        filmCatalogue['Editing'][i] = findStr[start_index+len(str1)-1 : ]\n",
    "    if((str(filmCatalogue['CAST_CREW'][i]).find(str1)!=0 or (str(filmCatalogue['CAST_CREW'][i]).find(str2)<0))):\n",
    "        filmCatalogue['Editing'][i]=\"Not Available\"\n"
   ]
  },
  {
   "cell_type": "code",
   "execution_count": 502,
   "id": "1a64bfde",
   "metadata": {},
   "outputs": [],
   "source": [
    "name=\"CAST_CREW\"\n"
   ]
  },
  {
   "cell_type": "code",
   "execution_count": 503,
   "id": "119f1076",
   "metadata": {},
   "outputs": [
    {
     "data": {
      "text/plain": [
       "0       Cinematography - Krishna Gopal,Editing - Navni...\n",
       "1       Cinematography - Y. B. Washikar,Editing - S. R...\n",
       "2                                           Not Available\n",
       "3       Cinematography - Jinaraj Bodhye, Editing - Pra...\n",
       "4                                           Not Available\n",
       "                              ...                        \n",
       "7499    Cinematography- Ravindra Singh Guram & Shankar...\n",
       "7500                  Editing- Atish Nandy & Manas Swain,\n",
       "7501       Sound- T. C. Manjunath,Editing- Sanjay Jadhav,\n",
       "7502    Editing- S. Shanmuganathan,Music- Sunil Kant G...\n",
       "7503    Cinematography- Ravindra Singh Guram & Shankar...\n",
       "Name: CAST_CREW, Length: 7504, dtype: object"
      ]
     },
     "execution_count": 503,
     "metadata": {},
     "output_type": "execute_result"
    }
   ],
   "source": [
    "filmCatalogue[name]"
   ]
  },
  {
   "cell_type": "code",
   "execution_count": null,
   "id": "40a42f10",
   "metadata": {},
   "outputs": [],
   "source": []
  }
 ],
 "metadata": {
  "kernelspec": {
   "display_name": "Python 3",
   "language": "python",
   "name": "python3"
  },
  "language_info": {
   "codemirror_mode": {
    "name": "ipython",
    "version": 3
   },
   "file_extension": ".py",
   "mimetype": "text/x-python",
   "name": "python",
   "nbconvert_exporter": "python",
   "pygments_lexer": "ipython3",
   "version": "3.8.8"
  }
 },
 "nbformat": 4,
 "nbformat_minor": 5
}
