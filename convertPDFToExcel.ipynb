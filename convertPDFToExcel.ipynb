{
 "cells": [
  {
   "cell_type": "code",
   "execution_count": 113,
   "id": "242cbe75",
   "metadata": {},
   "outputs": [
    {
     "name": "stdout",
     "output_type": "stream",
     "text": [
      "Complete\n"
     ]
    }
   ],
   "source": [
    "import pdfplumber\n",
    "import pandas as pd\n",
    "tables=[]\n",
    "with pdfplumber.open(\"C:/Users/sonal/Desktop/Sonal/Assignment/Term 1/DC/Group_17_FilmDivision/Film Catalogue-for-Web-Site-compressed.pdf\") as pdf:\n",
    "#Total number of pages\n",
    "    totalpages = len(pdf.pages)\n",
    "    for i in range(0 ,totalpages):\n",
    "        pageobj = pdf.pages[i]\n",
    "        tables= tables + pageobj.extract_table()\n",
    "#replace \\n from the row data\n",
    "for i in range(len(tables)):\n",
    "    for j in range(len(tables[i])):\n",
    "        tables[i][j]=tables[i][j].replace('\\n','')\n",
    "col_list=['SRNO','UNIQUENO', 'TITLE', 'CATEGORY', 'MAIN_CLASS', 'SUB_CLASS', 'SYNOPSIS', 'LANGUAGE', 'YEAR', 'DURATION', 'B_W', 'DIRECTOR', 'CAST_CREW']\n",
    "df = pd.DataFrame(tables[1:], columns=col_list)\n",
    "df.to_excel(\"C:/Users/sonal/Desktop/Sonal/Assignment/Term 1/DC/Group_17_FilmDivision/output.xlsx\")\n",
    "print(\"Complete\")"
   ]
  },
  {
   "cell_type": "code",
   "execution_count": null,
   "id": "df923cef",
   "metadata": {},
   "outputs": [],
   "source": []
  }
 ],
 "metadata": {
  "kernelspec": {
   "display_name": "Python 3",
   "language": "python",
   "name": "python3"
  },
  "language_info": {
   "codemirror_mode": {
    "name": "ipython",
    "version": 3
   },
   "file_extension": ".py",
   "mimetype": "text/x-python",
   "name": "python",
   "nbconvert_exporter": "python",
   "pygments_lexer": "ipython3",
   "version": "3.8.8"
  }
 },
 "nbformat": 4,
 "nbformat_minor": 5
}
